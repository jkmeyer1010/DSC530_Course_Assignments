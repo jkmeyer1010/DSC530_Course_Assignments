{
 "cells": [
  {
   "cell_type": "markdown",
   "id": "turned-result",
   "metadata": {},
   "source": [
    "Chapter 3,\n",
    "Exercise 3-2,\n",
    "Date: 04/10/2021,\n",
    "Author: Jake Meyer"
   ]
  },
  {
   "cell_type": "markdown",
   "id": "global-development",
   "metadata": {},
   "source": [
    "Assignment: Write functions called pmfMean() and pmfVar() that take a PMF object and compute the mean and variance.\n",
    "Test these methods so they are consistent with the methods Mean and Var provided by PMF."
   ]
  },
  {
   "cell_type": "code",
   "execution_count": null,
   "id": "synthetic-theorem",
   "metadata": {},
   "outputs": [],
   "source": [
    "Started by pulling in the probability.py code and modifying for pmfMean and pmfVar functions. "
   ]
  },
  {
   "cell_type": "code",
   "execution_count": 27,
   "id": "offshore-survival",
   "metadata": {},
   "outputs": [
    {
     "name": "stdout",
     "output_type": "stream",
     "text": [
      "38.56055968517709 38.56055968517709\n",
      "Mean is verified!\n",
      "7.301863788195439 7.301863788195439\n",
      "Variance is verified!\n",
      "All tests passed!\n"
     ]
    }
   ],
   "source": [
    "from __future__ import print_function\n",
    "\n",
    "import math\n",
    "import numpy as np\n",
    "\n",
    "import nsfg\n",
    "import first\n",
    "import thinkstats2\n",
    "import thinkplot\n",
    "\n",
    "# Create the pmfMean() function below:\n",
    "\n",
    "def pmfMean(pmf):\n",
    "    \"\"\" Calculates mean for \n",
    "    a given PMF.\n",
    "    returns: float mean\n",
    "    \"\"\"\n",
    "    # Calculate the mean per the formula from the text.\n",
    "    mean = 0.0\n",
    "    for key,val in pmf.d.items():\n",
    "        mean += key * val \n",
    "    return mean\n",
    "    \n",
    "# Create the pmfVar() function below:\n",
    "\n",
    "def pmfVar(pmf, xbar = None):\n",
    "    \"\"\"Calcualtes variance for\n",
    "    a given PMF.\n",
    "    returns: float variance\n",
    "    \"\"\"\n",
    "    # Provide \n",
    "    if xbar is None:\n",
    "        xbar = pmf.Mean()\n",
    "    # Calculate the variance per the formula from the text.\n",
    "    var = 0.0\n",
    "    for key,val in pmf.d.items():\n",
    "        var += val * (key - xbar)**2 \n",
    "    return var\n",
    "\n",
    " \n",
    "def main(script):\n",
    "    # Create the dataframe for live, firsts, others.\n",
    "    live, firsts, others = first.MakeFrames()\n",
    "    \n",
    "    # Setup the PMF for prglngth. \n",
    "    prglngth = live.prglngth\n",
    "    pmf = thinkstats2.Pmf(prglngth)\n",
    "    \n",
    "    # Calcualte the mean with pmfMean() for prglngth\n",
    "    mean = pmfMean(pmf)\n",
    "    \n",
    "    # Verify the calculated mean from pmfMean() is equivalent to the method pmf.Mean()\n",
    "    print(mean, pmf.Mean())\n",
    "    assert(mean == pmf.Mean())\n",
    "    print(\"Mean is verified!\")\n",
    "    \n",
    "    # Calculate the Variance with pmfVar() for prglngth\n",
    "    var = pmfVar(pmf)\n",
    "    \n",
    "    # Verify the calculated variance from pmfVar() is equivalent to the mthod pmf.Var()\n",
    "    print(var, pmf.Var())\n",
    "    assert(var == pmf.Var())\n",
    "    print(\"Variance is verified!\")\n",
    "    \n",
    "    # All Tests\n",
    "    print(\"All tests passed!\")\n",
    "    \n",
    "\n",
    "\n",
    "main(\"notebook script\")\n",
    "\n"
   ]
  },
  {
   "cell_type": "code",
   "execution_count": null,
   "id": "ecological-nancy",
   "metadata": {},
   "outputs": [],
   "source": []
  },
  {
   "cell_type": "code",
   "execution_count": null,
   "id": "indonesian-abuse",
   "metadata": {},
   "outputs": [],
   "source": []
  },
  {
   "cell_type": "code",
   "execution_count": null,
   "id": "objective-concord",
   "metadata": {},
   "outputs": [],
   "source": []
  }
 ],
 "metadata": {
  "kernelspec": {
   "display_name": "Python 3",
   "language": "python",
   "name": "python3"
  },
  "language_info": {
   "codemirror_mode": {
    "name": "ipython",
    "version": 3
   },
   "file_extension": ".py",
   "mimetype": "text/x-python",
   "name": "python",
   "nbconvert_exporter": "python",
   "pygments_lexer": "ipython3",
   "version": "3.8.8"
  }
 },
 "nbformat": 4,
 "nbformat_minor": 5
}
